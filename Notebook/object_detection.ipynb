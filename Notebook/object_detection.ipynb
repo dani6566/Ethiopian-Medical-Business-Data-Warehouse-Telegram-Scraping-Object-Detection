{
 "cells": [
  {
   "cell_type": "code",
   "execution_count": 1,
   "metadata": {},
   "outputs": [],
   "source": [
    "import pandas as pd\n",
    "import cv2\n",
    "# Add the parent directory to the system path \n",
    "import os\n",
    "import sys\n",
    "sys.path.append('../scripts')"
   ]
  },
  {
   "cell_type": "code",
   "execution_count": 2,
   "metadata": {},
   "outputs": [
    {
     "name": "stdout",
     "output_type": "stream",
     "text": [
      "WARNING  Python>=3.10 is required, but Python==3.8.10 is currently installed \n"
     ]
    },
    {
     "name": "stderr",
     "output_type": "stream",
     "text": [
      "YOLOv5  v7.0-372-ga3555241 Python-3.8.10 torch-2.4.1+cpu CPU\n",
      "\n",
      "Fusing layers... \n",
      "YOLOv5s summary: 213 layers, 7225885 parameters, 0 gradients, 16.4 GFLOPs\n",
      "Adding AutoShape... \n"
     ]
    }
   ],
   "source": [
    "from object_detection import detect_objects,visual_object_detection"
   ]
  },
  {
   "cell_type": "code",
   "execution_count": 4,
   "metadata": {},
   "outputs": [],
   "source": [
    "df_object_detected = pd.read_csv('../data/yolo_detections.csv')"
   ]
  },
  {
   "cell_type": "code",
   "execution_count": 5,
   "metadata": {},
   "outputs": [
    {
     "data": {
      "text/html": [
       "<div>\n",
       "<style scoped>\n",
       "    .dataframe tbody tr th:only-of-type {\n",
       "        vertical-align: middle;\n",
       "    }\n",
       "\n",
       "    .dataframe tbody tr th {\n",
       "        vertical-align: top;\n",
       "    }\n",
       "\n",
       "    .dataframe thead th {\n",
       "        text-align: right;\n",
       "    }\n",
       "</style>\n",
       "<table border=\"1\" class=\"dataframe\">\n",
       "  <thead>\n",
       "    <tr style=\"text-align: right;\">\n",
       "      <th></th>\n",
       "      <th>Image Path</th>\n",
       "      <th>Bounding Box</th>\n",
       "      <th>Confidence</th>\n",
       "      <th>Class Label</th>\n",
       "    </tr>\n",
       "  </thead>\n",
       "  <tbody>\n",
       "    <tr>\n",
       "      <th>0</th>\n",
       "      <td>../data/photos\\@DoctorsET_101.jpg</td>\n",
       "      <td>(383.4137268066406, 320.73089599609375, 1066.8...</td>\n",
       "      <td>0.404394</td>\n",
       "      <td>vase</td>\n",
       "    </tr>\n",
       "    <tr>\n",
       "      <th>1</th>\n",
       "      <td>../data/photos\\@DoctorsET_102.jpg</td>\n",
       "      <td>(139.99537658691406, 209.4450225830078, 796.75...</td>\n",
       "      <td>0.537451</td>\n",
       "      <td>person</td>\n",
       "    </tr>\n",
       "    <tr>\n",
       "      <th>2</th>\n",
       "      <td>../data/photos\\@DoctorsET_104.jpg</td>\n",
       "      <td>(190.63723754882812, 14.540771484375, 1132.350...</td>\n",
       "      <td>0.794263</td>\n",
       "      <td>person</td>\n",
       "    </tr>\n",
       "    <tr>\n",
       "      <th>3</th>\n",
       "      <td>../data/photos\\@DoctorsET_11.jpg</td>\n",
       "      <td>(465.99066162109375, 19.636444091796875, 838.9...</td>\n",
       "      <td>0.865623</td>\n",
       "      <td>person</td>\n",
       "    </tr>\n",
       "    <tr>\n",
       "      <th>4</th>\n",
       "      <td>../data/photos\\@DoctorsET_114.jpg</td>\n",
       "      <td>(748.2425537109375, 108.42300415039062, 1202.7...</td>\n",
       "      <td>0.805457</td>\n",
       "      <td>person</td>\n",
       "    </tr>\n",
       "  </tbody>\n",
       "</table>\n",
       "</div>"
      ],
      "text/plain": [
       "                          Image Path  \\\n",
       "0  ../data/photos\\@DoctorsET_101.jpg   \n",
       "1  ../data/photos\\@DoctorsET_102.jpg   \n",
       "2  ../data/photos\\@DoctorsET_104.jpg   \n",
       "3   ../data/photos\\@DoctorsET_11.jpg   \n",
       "4  ../data/photos\\@DoctorsET_114.jpg   \n",
       "\n",
       "                                        Bounding Box  Confidence Class Label  \n",
       "0  (383.4137268066406, 320.73089599609375, 1066.8...    0.404394        vase  \n",
       "1  (139.99537658691406, 209.4450225830078, 796.75...    0.537451      person  \n",
       "2  (190.63723754882812, 14.540771484375, 1132.350...    0.794263      person  \n",
       "3  (465.99066162109375, 19.636444091796875, 838.9...    0.865623      person  \n",
       "4  (748.2425537109375, 108.42300415039062, 1202.7...    0.805457      person  "
      ]
     },
     "execution_count": 5,
     "metadata": {},
     "output_type": "execute_result"
    }
   ],
   "source": [
    "df_object_detected.head(5)"
   ]
  },
  {
   "cell_type": "markdown",
   "metadata": {},
   "source": [
    "### Visualizing the Results"
   ]
  },
  {
   "cell_type": "code",
   "execution_count": 3,
   "metadata": {},
   "outputs": [
    {
     "name": "stderr",
     "output_type": "stream",
     "text": [
      "c:\\Users\\lenovo\\Documents\\10acadmy\\Ethiopian-Medical-Business-Data-Warehouse-Telegram-Scraping-Object-Detection\\Notebook\\../yolov5\\models\\common.py:892: FutureWarning: `torch.cuda.amp.autocast(args...)` is deprecated. Please use `torch.amp.autocast('cuda', args...)` instead.\n",
      "  with amp.autocast(autocast):\n",
      "c:\\Users\\lenovo\\Documents\\10acadmy\\Ethiopian-Medical-Business-Data-Warehouse-Telegram-Scraping-Object-Detection\\Notebook\\../yolov5\\models\\common.py:892: FutureWarning: `torch.cuda.amp.autocast(args...)` is deprecated. Please use `torch.amp.autocast('cuda', args...)` instead.\n",
      "  with amp.autocast(autocast):\n",
      "c:\\Users\\lenovo\\Documents\\10acadmy\\Ethiopian-Medical-Business-Data-Warehouse-Telegram-Scraping-Object-Detection\\Notebook\\../yolov5\\models\\common.py:892: FutureWarning: `torch.cuda.amp.autocast(args...)` is deprecated. Please use `torch.amp.autocast('cuda', args...)` instead.\n",
      "  with amp.autocast(autocast):\n",
      "c:\\Users\\lenovo\\Documents\\10acadmy\\Ethiopian-Medical-Business-Data-Warehouse-Telegram-Scraping-Object-Detection\\Notebook\\../yolov5\\models\\common.py:892: FutureWarning: `torch.cuda.amp.autocast(args...)` is deprecated. Please use `torch.amp.autocast('cuda', args...)` instead.\n",
      "  with amp.autocast(autocast):\n",
      "c:\\Users\\lenovo\\Documents\\10acadmy\\Ethiopian-Medical-Business-Data-Warehouse-Telegram-Scraping-Object-Detection\\Notebook\\../yolov5\\models\\common.py:892: FutureWarning: `torch.cuda.amp.autocast(args...)` is deprecated. Please use `torch.amp.autocast('cuda', args...)` instead.\n",
      "  with amp.autocast(autocast):\n",
      "c:\\Users\\lenovo\\Documents\\10acadmy\\Ethiopian-Medical-Business-Data-Warehouse-Telegram-Scraping-Object-Detection\\Notebook\\../yolov5\\models\\common.py:892: FutureWarning: `torch.cuda.amp.autocast(args...)` is deprecated. Please use `torch.amp.autocast('cuda', args...)` instead.\n",
      "  with amp.autocast(autocast):\n",
      "c:\\Users\\lenovo\\Documents\\10acadmy\\Ethiopian-Medical-Business-Data-Warehouse-Telegram-Scraping-Object-Detection\\Notebook\\../yolov5\\models\\common.py:892: FutureWarning: `torch.cuda.amp.autocast(args...)` is deprecated. Please use `torch.amp.autocast('cuda', args...)` instead.\n",
      "  with amp.autocast(autocast):\n",
      "c:\\Users\\lenovo\\Documents\\10acadmy\\Ethiopian-Medical-Business-Data-Warehouse-Telegram-Scraping-Object-Detection\\Notebook\\../yolov5\\models\\common.py:892: FutureWarning: `torch.cuda.amp.autocast(args...)` is deprecated. Please use `torch.amp.autocast('cuda', args...)` instead.\n",
      "  with amp.autocast(autocast):\n",
      "c:\\Users\\lenovo\\Documents\\10acadmy\\Ethiopian-Medical-Business-Data-Warehouse-Telegram-Scraping-Object-Detection\\Notebook\\../yolov5\\models\\common.py:892: FutureWarning: `torch.cuda.amp.autocast(args...)` is deprecated. Please use `torch.amp.autocast('cuda', args...)` instead.\n",
      "  with amp.autocast(autocast):\n",
      "c:\\Users\\lenovo\\Documents\\10acadmy\\Ethiopian-Medical-Business-Data-Warehouse-Telegram-Scraping-Object-Detection\\Notebook\\../yolov5\\models\\common.py:892: FutureWarning: `torch.cuda.amp.autocast(args...)` is deprecated. Please use `torch.amp.autocast('cuda', args...)` instead.\n",
      "  with amp.autocast(autocast):\n",
      "c:\\Users\\lenovo\\Documents\\10acadmy\\Ethiopian-Medical-Business-Data-Warehouse-Telegram-Scraping-Object-Detection\\Notebook\\../yolov5\\models\\common.py:892: FutureWarning: `torch.cuda.amp.autocast(args...)` is deprecated. Please use `torch.amp.autocast('cuda', args...)` instead.\n",
      "  with amp.autocast(autocast):\n",
      "c:\\Users\\lenovo\\Documents\\10acadmy\\Ethiopian-Medical-Business-Data-Warehouse-Telegram-Scraping-Object-Detection\\Notebook\\../yolov5\\models\\common.py:892: FutureWarning: `torch.cuda.amp.autocast(args...)` is deprecated. Please use `torch.amp.autocast('cuda', args...)` instead.\n",
      "  with amp.autocast(autocast):\n",
      "c:\\Users\\lenovo\\Documents\\10acadmy\\Ethiopian-Medical-Business-Data-Warehouse-Telegram-Scraping-Object-Detection\\Notebook\\../yolov5\\models\\common.py:892: FutureWarning: `torch.cuda.amp.autocast(args...)` is deprecated. Please use `torch.amp.autocast('cuda', args...)` instead.\n",
      "  with amp.autocast(autocast):\n",
      "c:\\Users\\lenovo\\Documents\\10acadmy\\Ethiopian-Medical-Business-Data-Warehouse-Telegram-Scraping-Object-Detection\\Notebook\\../yolov5\\models\\common.py:892: FutureWarning: `torch.cuda.amp.autocast(args...)` is deprecated. Please use `torch.amp.autocast('cuda', args...)` instead.\n",
      "  with amp.autocast(autocast):\n",
      "c:\\Users\\lenovo\\Documents\\10acadmy\\Ethiopian-Medical-Business-Data-Warehouse-Telegram-Scraping-Object-Detection\\Notebook\\../yolov5\\models\\common.py:892: FutureWarning: `torch.cuda.amp.autocast(args...)` is deprecated. Please use `torch.amp.autocast('cuda', args...)` instead.\n",
      "  with amp.autocast(autocast):\n",
      "c:\\Users\\lenovo\\Documents\\10acadmy\\Ethiopian-Medical-Business-Data-Warehouse-Telegram-Scraping-Object-Detection\\Notebook\\../yolov5\\models\\common.py:892: FutureWarning: `torch.cuda.amp.autocast(args...)` is deprecated. Please use `torch.amp.autocast('cuda', args...)` instead.\n",
      "  with amp.autocast(autocast):\n",
      "c:\\Users\\lenovo\\Documents\\10acadmy\\Ethiopian-Medical-Business-Data-Warehouse-Telegram-Scraping-Object-Detection\\Notebook\\../yolov5\\models\\common.py:892: FutureWarning: `torch.cuda.amp.autocast(args...)` is deprecated. Please use `torch.amp.autocast('cuda', args...)` instead.\n",
      "  with amp.autocast(autocast):\n",
      "c:\\Users\\lenovo\\Documents\\10acadmy\\Ethiopian-Medical-Business-Data-Warehouse-Telegram-Scraping-Object-Detection\\Notebook\\../yolov5\\models\\common.py:892: FutureWarning: `torch.cuda.amp.autocast(args...)` is deprecated. Please use `torch.amp.autocast('cuda', args...)` instead.\n",
      "  with amp.autocast(autocast):\n",
      "c:\\Users\\lenovo\\Documents\\10acadmy\\Ethiopian-Medical-Business-Data-Warehouse-Telegram-Scraping-Object-Detection\\Notebook\\../yolov5\\models\\common.py:892: FutureWarning: `torch.cuda.amp.autocast(args...)` is deprecated. Please use `torch.amp.autocast('cuda', args...)` instead.\n",
      "  with amp.autocast(autocast):\n",
      "c:\\Users\\lenovo\\Documents\\10acadmy\\Ethiopian-Medical-Business-Data-Warehouse-Telegram-Scraping-Object-Detection\\Notebook\\../yolov5\\models\\common.py:892: FutureWarning: `torch.cuda.amp.autocast(args...)` is deprecated. Please use `torch.amp.autocast('cuda', args...)` instead.\n",
      "  with amp.autocast(autocast):\n"
     ]
    },
    {
     "name": "stdout",
     "output_type": "stream",
     "text": [
      "Object detection completed and images saved.\n",
      "Object detection completed on 20 sampled images and results saved.\n"
     ]
    }
   ],
   "source": [
    "# Call visual_object_detection() for visualizing object detection results\n",
    "visual_object_detection()"
   ]
  }
 ],
 "metadata": {
  "kernelspec": {
   "display_name": ".venv",
   "language": "python",
   "name": "python3"
  },
  "language_info": {
   "codemirror_mode": {
    "name": "ipython",
    "version": 3
   },
   "file_extension": ".py",
   "mimetype": "text/x-python",
   "name": "python",
   "nbconvert_exporter": "python",
   "pygments_lexer": "ipython3",
   "version": "3.8.10"
  }
 },
 "nbformat": 4,
 "nbformat_minor": 2
}
