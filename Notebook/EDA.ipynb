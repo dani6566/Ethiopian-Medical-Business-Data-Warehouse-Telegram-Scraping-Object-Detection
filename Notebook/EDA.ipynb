{
 "cells": [
  {
   "cell_type": "code",
   "execution_count": 3,
   "metadata": {},
   "outputs": [],
   "source": [
    "import pandas as pd"
   ]
  },
  {
   "cell_type": "code",
   "execution_count": 5,
   "metadata": {},
   "outputs": [],
   "source": [
    "# Add the parent directory to the system path \n",
    "import os\n",
    "import sys\n",
    "sys.path.append(os.path.abspath(os.path.join('../Scripts')))"
   ]
  },
  {
   "cell_type": "code",
   "execution_count": 6,
   "metadata": {},
   "outputs": [],
   "source": [
    "from preprocessor import DataHouse"
   ]
  },
  {
   "cell_type": "code",
   "execution_count": 27,
   "metadata": {},
   "outputs": [],
   "source": [
    "df = pd.read_csv('../data/telegram_data2.csv')"
   ]
  },
  {
   "cell_type": "code",
   "execution_count": 28,
   "metadata": {},
   "outputs": [
    {
     "data": {
      "text/plain": [
       "(6285, 6)"
      ]
     },
     "execution_count": 28,
     "metadata": {},
     "output_type": "execute_result"
    }
   ],
   "source": [
    "df.shape"
   ]
  },
  {
   "cell_type": "code",
   "execution_count": 29,
   "metadata": {},
   "outputs": [
    {
     "data": {
      "text/plain": [
       "Channel Title          0\n",
       "Channel Username       0\n",
       "ID                     0\n",
       "Message             1170\n",
       "Date                   0\n",
       "Media Path          1539\n",
       "dtype: int64"
      ]
     },
     "execution_count": 29,
     "metadata": {},
     "output_type": "execute_result"
    }
   ],
   "source": [
    "df.isnull().sum()"
   ]
  },
  {
   "cell_type": "code",
   "execution_count": 30,
   "metadata": {},
   "outputs": [
    {
     "data": {
      "text/plain": [
       "1733"
      ]
     },
     "execution_count": 30,
     "metadata": {},
     "output_type": "execute_result"
    }
   ],
   "source": [
    "df['ID'].duplicated().sum()"
   ]
  },
  {
   "cell_type": "code",
   "execution_count": 31,
   "metadata": {},
   "outputs": [],
   "source": [
    "data_house = DataHouse(df)"
   ]
  },
  {
   "cell_type": "markdown",
   "metadata": {},
   "source": [
    "### Data Cleaning"
   ]
  },
  {
   "cell_type": "code",
   "execution_count": 32,
   "metadata": {},
   "outputs": [
    {
     "name": "stdout",
     "output_type": "stream",
     "text": [
      "Checking for NaN values in the 'Channel Title' column:\n",
      "Number of NaN values in 'Channel Title' column: 0\n",
      "Rows with NaN values in 'Channel Title' column dropped.\n",
      "Checking for NaN values in the 'Channel Username' column:\n",
      "Number of NaN values in 'Channel Username' column: 0\n",
      "Rows with NaN values in 'Channel Username' column dropped.\n",
      "Checking for NaN values in the 'ID' column:\n",
      "Number of NaN values in 'ID' column: 0\n",
      "Rows with NaN values in 'ID' column dropped.\n",
      "Checking for NaN values in the 'Message' column:\n",
      "Number of NaN values in 'Message' column: 1170\n",
      "Rows with NaN values in 'Message' column dropped.\n",
      "Checking for NaN values in the 'Date' column:\n",
      "Number of NaN values in 'Date' column: 0\n",
      "Rows with NaN values in 'Date' column dropped.\n",
      "Checking for NaN values in the 'Media Path' column:\n",
      "Number of NaN values in 'Media Path' column: 1088\n",
      "Rows with NaN values in 'Media Path' column dropped.\n",
      "Dataset shape after dropping NaN values in 'Index(['Channel Title', 'Channel Username', 'ID', 'Message', 'Date',\n",
      "       'Media Path'],\n",
      "      dtype='object')' column: (4027, 6)\n"
     ]
    }
   ],
   "source": [
    "data_house.clean_data()"
   ]
  },
  {
   "cell_type": "code",
   "execution_count": 33,
   "metadata": {},
   "outputs": [
    {
     "data": {
      "text/html": [
       "<div>\n",
       "<style scoped>\n",
       "    .dataframe tbody tr th:only-of-type {\n",
       "        vertical-align: middle;\n",
       "    }\n",
       "\n",
       "    .dataframe tbody tr th {\n",
       "        vertical-align: top;\n",
       "    }\n",
       "\n",
       "    .dataframe thead th {\n",
       "        text-align: right;\n",
       "    }\n",
       "</style>\n",
       "<table border=\"1\" class=\"dataframe\">\n",
       "  <thead>\n",
       "    <tr style=\"text-align: right;\">\n",
       "      <th></th>\n",
       "      <th>Channel Title</th>\n",
       "      <th>Channel Username</th>\n",
       "      <th>ID</th>\n",
       "      <th>Message</th>\n",
       "      <th>Date</th>\n",
       "      <th>Media Path</th>\n",
       "    </tr>\n",
       "  </thead>\n",
       "  <tbody>\n",
       "    <tr>\n",
       "      <th>15</th>\n",
       "      <td>Doctors Ethiopia</td>\n",
       "      <td>@DoctorsET</td>\n",
       "      <td>839</td>\n",
       "      <td>ዛሬ ምሽት 3:30 በ ፋና ቴሌቪዥን \\n\\n    ስለ ፕሮቲን : ክሬቲን ...</td>\n",
       "      <td>2022-05-06 17:51:05+00:00</td>\n",
       "      <td>photos\\@DoctorsET_839.jpg</td>\n",
       "    </tr>\n",
       "    <tr>\n",
       "      <th>22</th>\n",
       "      <td>Doctors Ethiopia</td>\n",
       "      <td>@DoctorsET</td>\n",
       "      <td>830</td>\n",
       "      <td>ሃያት ሆስፒታል ሜዲካል ኮሌጅ \\n\\n ህክምና ለማግኘት አስበዋል ?\\nየት...</td>\n",
       "      <td>2022-04-28 05:46:38+00:00</td>\n",
       "      <td>photos\\@DoctorsET_830.jpg</td>\n",
       "    </tr>\n",
       "    <tr>\n",
       "      <th>24</th>\n",
       "      <td>Doctors Ethiopia</td>\n",
       "      <td>@DoctorsET</td>\n",
       "      <td>828</td>\n",
       "      <td>የዶክተርስ ኢትዮጵያ እንግዳ \\n\\nትንሳይ ብርሃኑ \\nISSA certifi...</td>\n",
       "      <td>2022-04-22 18:55:31+00:00</td>\n",
       "      <td>photos\\@DoctorsET_828.jpg</td>\n",
       "    </tr>\n",
       "    <tr>\n",
       "      <th>30</th>\n",
       "      <td>Doctors Ethiopia</td>\n",
       "      <td>@DoctorsET</td>\n",
       "      <td>822</td>\n",
       "      <td>ዛሬ ምሽት 3:30 በ ፋና ቴሌቪዥን \\n           ልዮ ፕሮግራም \\...</td>\n",
       "      <td>2022-04-22 17:51:04+00:00</td>\n",
       "      <td>photos\\@DoctorsET_822.jpg</td>\n",
       "    </tr>\n",
       "    <tr>\n",
       "      <th>34</th>\n",
       "      <td>Doctors Ethiopia</td>\n",
       "      <td>@DoctorsET</td>\n",
       "      <td>818</td>\n",
       "      <td>ዛሬ ምሽት 3:30 በ ፋና ቴሌቪዥን \\n  ዶክተርስ ገበታ ፕሮግራም \\n\\...</td>\n",
       "      <td>2022-04-15 18:06:19+00:00</td>\n",
       "      <td>photos\\@DoctorsET_818.jpg</td>\n",
       "    </tr>\n",
       "  </tbody>\n",
       "</table>\n",
       "</div>"
      ],
      "text/plain": [
       "       Channel Title Channel Username   ID  \\\n",
       "15  Doctors Ethiopia       @DoctorsET  839   \n",
       "22  Doctors Ethiopia       @DoctorsET  830   \n",
       "24  Doctors Ethiopia       @DoctorsET  828   \n",
       "30  Doctors Ethiopia       @DoctorsET  822   \n",
       "34  Doctors Ethiopia       @DoctorsET  818   \n",
       "\n",
       "                                              Message  \\\n",
       "15  ዛሬ ምሽት 3:30 በ ፋና ቴሌቪዥን \\n\\n    ስለ ፕሮቲን : ክሬቲን ...   \n",
       "22  ሃያት ሆስፒታል ሜዲካል ኮሌጅ \\n\\n ህክምና ለማግኘት አስበዋል ?\\nየት...   \n",
       "24  የዶክተርስ ኢትዮጵያ እንግዳ \\n\\nትንሳይ ብርሃኑ \\nISSA certifi...   \n",
       "30  ዛሬ ምሽት 3:30 በ ፋና ቴሌቪዥን \\n           ልዮ ፕሮግራም \\...   \n",
       "34  ዛሬ ምሽት 3:30 በ ፋና ቴሌቪዥን \\n  ዶክተርስ ገበታ ፕሮግራም \\n\\...   \n",
       "\n",
       "                        Date                 Media Path  \n",
       "15 2022-05-06 17:51:05+00:00  photos\\@DoctorsET_839.jpg  \n",
       "22 2022-04-28 05:46:38+00:00  photos\\@DoctorsET_830.jpg  \n",
       "24 2022-04-22 18:55:31+00:00  photos\\@DoctorsET_828.jpg  \n",
       "30 2022-04-22 17:51:04+00:00  photos\\@DoctorsET_822.jpg  \n",
       "34 2022-04-15 18:06:19+00:00  photos\\@DoctorsET_818.jpg  "
      ]
     },
     "execution_count": 33,
     "metadata": {},
     "output_type": "execute_result"
    }
   ],
   "source": [
    "df.head(5)"
   ]
  },
  {
   "cell_type": "code",
   "execution_count": 34,
   "metadata": {},
   "outputs": [
    {
     "data": {
      "text/html": [
       "<div>\n",
       "<style scoped>\n",
       "    .dataframe tbody tr th:only-of-type {\n",
       "        vertical-align: middle;\n",
       "    }\n",
       "\n",
       "    .dataframe tbody tr th {\n",
       "        vertical-align: top;\n",
       "    }\n",
       "\n",
       "    .dataframe thead th {\n",
       "        text-align: right;\n",
       "    }\n",
       "</style>\n",
       "<table border=\"1\" class=\"dataframe\">\n",
       "  <thead>\n",
       "    <tr style=\"text-align: right;\">\n",
       "      <th></th>\n",
       "      <th>ID</th>\n",
       "    </tr>\n",
       "  </thead>\n",
       "  <tbody>\n",
       "    <tr>\n",
       "      <th>count</th>\n",
       "      <td>4027.000000</td>\n",
       "    </tr>\n",
       "    <tr>\n",
       "      <th>mean</th>\n",
       "      <td>6757.477278</td>\n",
       "    </tr>\n",
       "    <tr>\n",
       "      <th>std</th>\n",
       "      <td>5032.206119</td>\n",
       "    </tr>\n",
       "    <tr>\n",
       "      <th>min</th>\n",
       "      <td>3.000000</td>\n",
       "    </tr>\n",
       "    <tr>\n",
       "      <th>25%</th>\n",
       "      <td>1167.500000</td>\n",
       "    </tr>\n",
       "    <tr>\n",
       "      <th>50%</th>\n",
       "      <td>10246.000000</td>\n",
       "    </tr>\n",
       "    <tr>\n",
       "      <th>75%</th>\n",
       "      <td>11321.500000</td>\n",
       "    </tr>\n",
       "    <tr>\n",
       "      <th>max</th>\n",
       "      <td>12385.000000</td>\n",
       "    </tr>\n",
       "  </tbody>\n",
       "</table>\n",
       "</div>"
      ],
      "text/plain": [
       "                 ID\n",
       "count   4027.000000\n",
       "mean    6757.477278\n",
       "std     5032.206119\n",
       "min        3.000000\n",
       "25%     1167.500000\n",
       "50%    10246.000000\n",
       "75%    11321.500000\n",
       "max    12385.000000"
      ]
     },
     "execution_count": 34,
     "metadata": {},
     "output_type": "execute_result"
    }
   ],
   "source": [
    "df.describe()"
   ]
  },
  {
   "cell_type": "code",
   "execution_count": 35,
   "metadata": {},
   "outputs": [
    {
     "data": {
      "text/plain": [
       "Channel Title       0\n",
       "Channel Username    0\n",
       "ID                  0\n",
       "Message             0\n",
       "Date                0\n",
       "Media Path          0\n",
       "dtype: int64"
      ]
     },
     "execution_count": 35,
     "metadata": {},
     "output_type": "execute_result"
    }
   ],
   "source": [
    "df.isnull().sum()"
   ]
  },
  {
   "cell_type": "code",
   "execution_count": 36,
   "metadata": {},
   "outputs": [
    {
     "data": {
      "text/plain": [
       "241"
      ]
     },
     "execution_count": 36,
     "metadata": {},
     "output_type": "execute_result"
    }
   ],
   "source": [
    "df['ID'].duplicated().sum()"
   ]
  },
  {
   "cell_type": "code",
   "execution_count": 37,
   "metadata": {},
   "outputs": [
    {
     "data": {
      "text/html": [
       "<div>\n",
       "<style scoped>\n",
       "    .dataframe tbody tr th:only-of-type {\n",
       "        vertical-align: middle;\n",
       "    }\n",
       "\n",
       "    .dataframe tbody tr th {\n",
       "        vertical-align: top;\n",
       "    }\n",
       "\n",
       "    .dataframe thead th {\n",
       "        text-align: right;\n",
       "    }\n",
       "</style>\n",
       "<table border=\"1\" class=\"dataframe\">\n",
       "  <thead>\n",
       "    <tr style=\"text-align: right;\">\n",
       "      <th></th>\n",
       "      <th>Channel Title</th>\n",
       "      <th>Channel Username</th>\n",
       "      <th>ID</th>\n",
       "      <th>Message</th>\n",
       "      <th>Date</th>\n",
       "      <th>Media Path</th>\n",
       "    </tr>\n",
       "  </thead>\n",
       "  <tbody>\n",
       "    <tr>\n",
       "      <th>15</th>\n",
       "      <td>Doctors Ethiopia</td>\n",
       "      <td>@DoctorsET</td>\n",
       "      <td>839</td>\n",
       "      <td>ዛሬ ምሽት 3:30 በ ፋና ቴሌቪዥን \\n\\n    ስለ ፕሮቲን : ክሬቲን ...</td>\n",
       "      <td>2022-05-06 17:51:05+00:00</td>\n",
       "      <td>photos\\@DoctorsET_839.jpg</td>\n",
       "    </tr>\n",
       "    <tr>\n",
       "      <th>22</th>\n",
       "      <td>Doctors Ethiopia</td>\n",
       "      <td>@DoctorsET</td>\n",
       "      <td>830</td>\n",
       "      <td>ሃያት ሆስፒታል ሜዲካል ኮሌጅ \\n\\n ህክምና ለማግኘት አስበዋል ?\\nየት...</td>\n",
       "      <td>2022-04-28 05:46:38+00:00</td>\n",
       "      <td>photos\\@DoctorsET_830.jpg</td>\n",
       "    </tr>\n",
       "    <tr>\n",
       "      <th>24</th>\n",
       "      <td>Doctors Ethiopia</td>\n",
       "      <td>@DoctorsET</td>\n",
       "      <td>828</td>\n",
       "      <td>የዶክተርስ ኢትዮጵያ እንግዳ \\n\\nትንሳይ ብርሃኑ \\nISSA certifi...</td>\n",
       "      <td>2022-04-22 18:55:31+00:00</td>\n",
       "      <td>photos\\@DoctorsET_828.jpg</td>\n",
       "    </tr>\n",
       "    <tr>\n",
       "      <th>30</th>\n",
       "      <td>Doctors Ethiopia</td>\n",
       "      <td>@DoctorsET</td>\n",
       "      <td>822</td>\n",
       "      <td>ዛሬ ምሽት 3:30 በ ፋና ቴሌቪዥን \\n           ልዮ ፕሮግራም \\...</td>\n",
       "      <td>2022-04-22 17:51:04+00:00</td>\n",
       "      <td>photos\\@DoctorsET_822.jpg</td>\n",
       "    </tr>\n",
       "    <tr>\n",
       "      <th>34</th>\n",
       "      <td>Doctors Ethiopia</td>\n",
       "      <td>@DoctorsET</td>\n",
       "      <td>818</td>\n",
       "      <td>ዛሬ ምሽት 3:30 በ ፋና ቴሌቪዥን \\n  ዶክተርስ ገበታ ፕሮግራም \\n\\...</td>\n",
       "      <td>2022-04-15 18:06:19+00:00</td>\n",
       "      <td>photos\\@DoctorsET_818.jpg</td>\n",
       "    </tr>\n",
       "    <tr>\n",
       "      <th>...</th>\n",
       "      <td>...</td>\n",
       "      <td>...</td>\n",
       "      <td>...</td>\n",
       "      <td>...</td>\n",
       "      <td>...</td>\n",
       "      <td>...</td>\n",
       "    </tr>\n",
       "    <tr>\n",
       "      <th>6207</th>\n",
       "      <td>ETHIO-AMERICAN MEDICAL TRAININGS( CPD ) &amp; HEAL...</td>\n",
       "      <td>@EAHCI</td>\n",
       "      <td>108</td>\n",
       "      <td>Doctors from #Harar , #Ultrasound</td>\n",
       "      <td>2021-06-10 13:19:17+00:00</td>\n",
       "      <td>photos\\@EAHCI_108.jpg</td>\n",
       "    </tr>\n",
       "    <tr>\n",
       "      <th>6208</th>\n",
       "      <td>ETHIO-AMERICAN MEDICAL TRAININGS( CPD ) &amp; HEAL...</td>\n",
       "      <td>@EAHCI</td>\n",
       "      <td>107</td>\n",
       "      <td>After circumcision Training @Hawassa.</td>\n",
       "      <td>2021-06-09 19:07:25+00:00</td>\n",
       "      <td>photos\\@EAHCI_107.jpg</td>\n",
       "    </tr>\n",
       "    <tr>\n",
       "      <th>6215</th>\n",
       "      <td>ETHIO-AMERICAN MEDICAL TRAININGS( CPD ) &amp; HEAL...</td>\n",
       "      <td>@EAHCI</td>\n",
       "      <td>99</td>\n",
       "      <td>Circumcision Training started at Hawassa , The...</td>\n",
       "      <td>2021-06-06 08:07:07+00:00</td>\n",
       "      <td>photos\\@EAHCI_99.jpg</td>\n",
       "    </tr>\n",
       "    <tr>\n",
       "      <th>6221</th>\n",
       "      <td>ETHIO-AMERICAN MEDICAL TRAININGS( CPD ) &amp; HEAL...</td>\n",
       "      <td>@EAHCI</td>\n",
       "      <td>93</td>\n",
       "      <td>Get Certificate &amp; Skill , OBGYN ultrasound .\\n...</td>\n",
       "      <td>2021-05-30 13:12:58+00:00</td>\n",
       "      <td>photos\\@EAHCI_93.jpg</td>\n",
       "    </tr>\n",
       "    <tr>\n",
       "      <th>6235</th>\n",
       "      <td>ETHIO-AMERICAN MEDICAL TRAININGS( CPD ) &amp; HEAL...</td>\n",
       "      <td>@EAHCI</td>\n",
       "      <td>77</td>\n",
       "      <td>New ultrasound for sale , Two probes , good qu...</td>\n",
       "      <td>2021-05-26 12:49:32+00:00</td>\n",
       "      <td>photos\\@EAHCI_77.jpg</td>\n",
       "    </tr>\n",
       "  </tbody>\n",
       "</table>\n",
       "<p>3786 rows × 6 columns</p>\n",
       "</div>"
      ],
      "text/plain": [
       "                                          Channel Title Channel Username   ID  \\\n",
       "15                                     Doctors Ethiopia       @DoctorsET  839   \n",
       "22                                     Doctors Ethiopia       @DoctorsET  830   \n",
       "24                                     Doctors Ethiopia       @DoctorsET  828   \n",
       "30                                     Doctors Ethiopia       @DoctorsET  822   \n",
       "34                                     Doctors Ethiopia       @DoctorsET  818   \n",
       "...                                                 ...              ...  ...   \n",
       "6207  ETHIO-AMERICAN MEDICAL TRAININGS( CPD ) & HEAL...           @EAHCI  108   \n",
       "6208  ETHIO-AMERICAN MEDICAL TRAININGS( CPD ) & HEAL...           @EAHCI  107   \n",
       "6215  ETHIO-AMERICAN MEDICAL TRAININGS( CPD ) & HEAL...           @EAHCI   99   \n",
       "6221  ETHIO-AMERICAN MEDICAL TRAININGS( CPD ) & HEAL...           @EAHCI   93   \n",
       "6235  ETHIO-AMERICAN MEDICAL TRAININGS( CPD ) & HEAL...           @EAHCI   77   \n",
       "\n",
       "                                                Message  \\\n",
       "15    ዛሬ ምሽት 3:30 በ ፋና ቴሌቪዥን \\n\\n    ስለ ፕሮቲን : ክሬቲን ...   \n",
       "22    ሃያት ሆስፒታል ሜዲካል ኮሌጅ \\n\\n ህክምና ለማግኘት አስበዋል ?\\nየት...   \n",
       "24    የዶክተርስ ኢትዮጵያ እንግዳ \\n\\nትንሳይ ብርሃኑ \\nISSA certifi...   \n",
       "30    ዛሬ ምሽት 3:30 በ ፋና ቴሌቪዥን \\n           ልዮ ፕሮግራም \\...   \n",
       "34    ዛሬ ምሽት 3:30 በ ፋና ቴሌቪዥን \\n  ዶክተርስ ገበታ ፕሮግራም \\n\\...   \n",
       "...                                                 ...   \n",
       "6207                  Doctors from #Harar , #Ultrasound   \n",
       "6208              After circumcision Training @Hawassa.   \n",
       "6215  Circumcision Training started at Hawassa , The...   \n",
       "6221  Get Certificate & Skill , OBGYN ultrasound .\\n...   \n",
       "6235  New ultrasound for sale , Two probes , good qu...   \n",
       "\n",
       "                          Date                 Media Path  \n",
       "15   2022-05-06 17:51:05+00:00  photos\\@DoctorsET_839.jpg  \n",
       "22   2022-04-28 05:46:38+00:00  photos\\@DoctorsET_830.jpg  \n",
       "24   2022-04-22 18:55:31+00:00  photos\\@DoctorsET_828.jpg  \n",
       "30   2022-04-22 17:51:04+00:00  photos\\@DoctorsET_822.jpg  \n",
       "34   2022-04-15 18:06:19+00:00  photos\\@DoctorsET_818.jpg  \n",
       "...                        ...                        ...  \n",
       "6207 2021-06-10 13:19:17+00:00      photos\\@EAHCI_108.jpg  \n",
       "6208 2021-06-09 19:07:25+00:00      photos\\@EAHCI_107.jpg  \n",
       "6215 2021-06-06 08:07:07+00:00       photos\\@EAHCI_99.jpg  \n",
       "6221 2021-05-30 13:12:58+00:00       photos\\@EAHCI_93.jpg  \n",
       "6235 2021-05-26 12:49:32+00:00       photos\\@EAHCI_77.jpg  \n",
       "\n",
       "[3786 rows x 6 columns]"
      ]
     },
     "execution_count": 37,
     "metadata": {},
     "output_type": "execute_result"
    }
   ],
   "source": [
    "df.drop_duplicates(subset=['ID'], keep='first')"
   ]
  },
  {
   "cell_type": "code",
   "execution_count": 38,
   "metadata": {},
   "outputs": [],
   "source": [
    "df['New_ID'] = df['Channel Username'].str.replace('@', '') + '_' + df['ID'].astype(str)"
   ]
  },
  {
   "cell_type": "code",
   "execution_count": 42,
   "metadata": {},
   "outputs": [],
   "source": [
    "# Step 4: Rename 'New_ID' to 'ID'\n",
    "df.rename(columns={'New_ID': 'ID'}, inplace=True)"
   ]
  },
  {
   "cell_type": "code",
   "execution_count": 44,
   "metadata": {},
   "outputs": [],
   "source": [
    "df = df[['Channel Title', 'Channel Username','ID', 'Message', 'Date', 'Media Path']]"
   ]
  },
  {
   "cell_type": "code",
   "execution_count": 45,
   "metadata": {},
   "outputs": [
    {
     "data": {
      "text/html": [
       "<div>\n",
       "<style scoped>\n",
       "    .dataframe tbody tr th:only-of-type {\n",
       "        vertical-align: middle;\n",
       "    }\n",
       "\n",
       "    .dataframe tbody tr th {\n",
       "        vertical-align: top;\n",
       "    }\n",
       "\n",
       "    .dataframe thead th {\n",
       "        text-align: right;\n",
       "    }\n",
       "</style>\n",
       "<table border=\"1\" class=\"dataframe\">\n",
       "  <thead>\n",
       "    <tr style=\"text-align: right;\">\n",
       "      <th></th>\n",
       "      <th>Channel Title</th>\n",
       "      <th>Channel Username</th>\n",
       "      <th>ID</th>\n",
       "      <th>ID</th>\n",
       "      <th>Message</th>\n",
       "      <th>Date</th>\n",
       "      <th>Media Path</th>\n",
       "    </tr>\n",
       "  </thead>\n",
       "  <tbody>\n",
       "    <tr>\n",
       "      <th>15</th>\n",
       "      <td>Doctors Ethiopia</td>\n",
       "      <td>@DoctorsET</td>\n",
       "      <td>839</td>\n",
       "      <td>DoctorsET_839</td>\n",
       "      <td>ዛሬ ምሽት 3:30 በ ፋና ቴሌቪዥን \\n\\n    ስለ ፕሮቲን : ክሬቲን ...</td>\n",
       "      <td>2022-05-06 17:51:05+00:00</td>\n",
       "      <td>photos\\@DoctorsET_839.jpg</td>\n",
       "    </tr>\n",
       "    <tr>\n",
       "      <th>22</th>\n",
       "      <td>Doctors Ethiopia</td>\n",
       "      <td>@DoctorsET</td>\n",
       "      <td>830</td>\n",
       "      <td>DoctorsET_830</td>\n",
       "      <td>ሃያት ሆስፒታል ሜዲካል ኮሌጅ \\n\\n ህክምና ለማግኘት አስበዋል ?\\nየት...</td>\n",
       "      <td>2022-04-28 05:46:38+00:00</td>\n",
       "      <td>photos\\@DoctorsET_830.jpg</td>\n",
       "    </tr>\n",
       "    <tr>\n",
       "      <th>24</th>\n",
       "      <td>Doctors Ethiopia</td>\n",
       "      <td>@DoctorsET</td>\n",
       "      <td>828</td>\n",
       "      <td>DoctorsET_828</td>\n",
       "      <td>የዶክተርስ ኢትዮጵያ እንግዳ \\n\\nትንሳይ ብርሃኑ \\nISSA certifi...</td>\n",
       "      <td>2022-04-22 18:55:31+00:00</td>\n",
       "      <td>photos\\@DoctorsET_828.jpg</td>\n",
       "    </tr>\n",
       "    <tr>\n",
       "      <th>30</th>\n",
       "      <td>Doctors Ethiopia</td>\n",
       "      <td>@DoctorsET</td>\n",
       "      <td>822</td>\n",
       "      <td>DoctorsET_822</td>\n",
       "      <td>ዛሬ ምሽት 3:30 በ ፋና ቴሌቪዥን \\n           ልዮ ፕሮግራም \\...</td>\n",
       "      <td>2022-04-22 17:51:04+00:00</td>\n",
       "      <td>photos\\@DoctorsET_822.jpg</td>\n",
       "    </tr>\n",
       "    <tr>\n",
       "      <th>34</th>\n",
       "      <td>Doctors Ethiopia</td>\n",
       "      <td>@DoctorsET</td>\n",
       "      <td>818</td>\n",
       "      <td>DoctorsET_818</td>\n",
       "      <td>ዛሬ ምሽት 3:30 በ ፋና ቴሌቪዥን \\n  ዶክተርስ ገበታ ፕሮግራም \\n\\...</td>\n",
       "      <td>2022-04-15 18:06:19+00:00</td>\n",
       "      <td>photos\\@DoctorsET_818.jpg</td>\n",
       "    </tr>\n",
       "  </tbody>\n",
       "</table>\n",
       "</div>"
      ],
      "text/plain": [
       "       Channel Title Channel Username   ID             ID  \\\n",
       "15  Doctors Ethiopia       @DoctorsET  839  DoctorsET_839   \n",
       "22  Doctors Ethiopia       @DoctorsET  830  DoctorsET_830   \n",
       "24  Doctors Ethiopia       @DoctorsET  828  DoctorsET_828   \n",
       "30  Doctors Ethiopia       @DoctorsET  822  DoctorsET_822   \n",
       "34  Doctors Ethiopia       @DoctorsET  818  DoctorsET_818   \n",
       "\n",
       "                                              Message  \\\n",
       "15  ዛሬ ምሽት 3:30 በ ፋና ቴሌቪዥን \\n\\n    ስለ ፕሮቲን : ክሬቲን ...   \n",
       "22  ሃያት ሆስፒታል ሜዲካል ኮሌጅ \\n\\n ህክምና ለማግኘት አስበዋል ?\\nየት...   \n",
       "24  የዶክተርስ ኢትዮጵያ እንግዳ \\n\\nትንሳይ ብርሃኑ \\nISSA certifi...   \n",
       "30  ዛሬ ምሽት 3:30 በ ፋና ቴሌቪዥን \\n           ልዮ ፕሮግራም \\...   \n",
       "34  ዛሬ ምሽት 3:30 በ ፋና ቴሌቪዥን \\n  ዶክተርስ ገበታ ፕሮግራም \\n\\...   \n",
       "\n",
       "                        Date                 Media Path  \n",
       "15 2022-05-06 17:51:05+00:00  photos\\@DoctorsET_839.jpg  \n",
       "22 2022-04-28 05:46:38+00:00  photos\\@DoctorsET_830.jpg  \n",
       "24 2022-04-22 18:55:31+00:00  photos\\@DoctorsET_828.jpg  \n",
       "30 2022-04-22 17:51:04+00:00  photos\\@DoctorsET_822.jpg  \n",
       "34 2022-04-15 18:06:19+00:00  photos\\@DoctorsET_818.jpg  "
      ]
     },
     "execution_count": 45,
     "metadata": {},
     "output_type": "execute_result"
    }
   ],
   "source": [
    "df.head(5)"
   ]
  },
  {
   "cell_type": "code",
   "execution_count": 47,
   "metadata": {},
   "outputs": [],
   "source": [
    "df.to_csv('cleaned_data.csv', index=False)"
   ]
  },
  {
   "cell_type": "code",
   "execution_count": 49,
   "metadata": {},
   "outputs": [],
   "source": [
    "df_cleaned = pd.read_csv('../Notebook/cleaned_data.csv')"
   ]
  },
  {
   "cell_type": "code",
   "execution_count": 50,
   "metadata": {},
   "outputs": [
    {
     "data": {
      "text/html": [
       "<div>\n",
       "<style scoped>\n",
       "    .dataframe tbody tr th:only-of-type {\n",
       "        vertical-align: middle;\n",
       "    }\n",
       "\n",
       "    .dataframe tbody tr th {\n",
       "        vertical-align: top;\n",
       "    }\n",
       "\n",
       "    .dataframe thead th {\n",
       "        text-align: right;\n",
       "    }\n",
       "</style>\n",
       "<table border=\"1\" class=\"dataframe\">\n",
       "  <thead>\n",
       "    <tr style=\"text-align: right;\">\n",
       "      <th></th>\n",
       "      <th>Channel Title</th>\n",
       "      <th>Channel Username</th>\n",
       "      <th>ID</th>\n",
       "      <th>ID.1</th>\n",
       "      <th>Message</th>\n",
       "      <th>Date</th>\n",
       "      <th>Media Path</th>\n",
       "    </tr>\n",
       "  </thead>\n",
       "  <tbody>\n",
       "    <tr>\n",
       "      <th>0</th>\n",
       "      <td>Doctors Ethiopia</td>\n",
       "      <td>@DoctorsET</td>\n",
       "      <td>839</td>\n",
       "      <td>DoctorsET_839</td>\n",
       "      <td>ዛሬ ምሽት 3:30 በ ፋና ቴሌቪዥን \\n\\n    ስለ ፕሮቲን : ክሬቲን ...</td>\n",
       "      <td>2022-05-06 17:51:05+00:00</td>\n",
       "      <td>photos\\@DoctorsET_839.jpg</td>\n",
       "    </tr>\n",
       "    <tr>\n",
       "      <th>1</th>\n",
       "      <td>Doctors Ethiopia</td>\n",
       "      <td>@DoctorsET</td>\n",
       "      <td>830</td>\n",
       "      <td>DoctorsET_830</td>\n",
       "      <td>ሃያት ሆስፒታል ሜዲካል ኮሌጅ \\n\\n ህክምና ለማግኘት አስበዋል ?\\nየት...</td>\n",
       "      <td>2022-04-28 05:46:38+00:00</td>\n",
       "      <td>photos\\@DoctorsET_830.jpg</td>\n",
       "    </tr>\n",
       "    <tr>\n",
       "      <th>2</th>\n",
       "      <td>Doctors Ethiopia</td>\n",
       "      <td>@DoctorsET</td>\n",
       "      <td>828</td>\n",
       "      <td>DoctorsET_828</td>\n",
       "      <td>የዶክተርስ ኢትዮጵያ እንግዳ \\n\\nትንሳይ ብርሃኑ \\nISSA certifi...</td>\n",
       "      <td>2022-04-22 18:55:31+00:00</td>\n",
       "      <td>photos\\@DoctorsET_828.jpg</td>\n",
       "    </tr>\n",
       "    <tr>\n",
       "      <th>3</th>\n",
       "      <td>Doctors Ethiopia</td>\n",
       "      <td>@DoctorsET</td>\n",
       "      <td>822</td>\n",
       "      <td>DoctorsET_822</td>\n",
       "      <td>ዛሬ ምሽት 3:30 በ ፋና ቴሌቪዥን \\n           ልዮ ፕሮግራም \\...</td>\n",
       "      <td>2022-04-22 17:51:04+00:00</td>\n",
       "      <td>photos\\@DoctorsET_822.jpg</td>\n",
       "    </tr>\n",
       "    <tr>\n",
       "      <th>4</th>\n",
       "      <td>Doctors Ethiopia</td>\n",
       "      <td>@DoctorsET</td>\n",
       "      <td>818</td>\n",
       "      <td>DoctorsET_818</td>\n",
       "      <td>ዛሬ ምሽት 3:30 በ ፋና ቴሌቪዥን \\n  ዶክተርስ ገበታ ፕሮግራም \\n\\...</td>\n",
       "      <td>2022-04-15 18:06:19+00:00</td>\n",
       "      <td>photos\\@DoctorsET_818.jpg</td>\n",
       "    </tr>\n",
       "  </tbody>\n",
       "</table>\n",
       "</div>"
      ],
      "text/plain": [
       "      Channel Title Channel Username   ID           ID.1  \\\n",
       "0  Doctors Ethiopia       @DoctorsET  839  DoctorsET_839   \n",
       "1  Doctors Ethiopia       @DoctorsET  830  DoctorsET_830   \n",
       "2  Doctors Ethiopia       @DoctorsET  828  DoctorsET_828   \n",
       "3  Doctors Ethiopia       @DoctorsET  822  DoctorsET_822   \n",
       "4  Doctors Ethiopia       @DoctorsET  818  DoctorsET_818   \n",
       "\n",
       "                                             Message  \\\n",
       "0  ዛሬ ምሽት 3:30 በ ፋና ቴሌቪዥን \\n\\n    ስለ ፕሮቲን : ክሬቲን ...   \n",
       "1  ሃያት ሆስፒታል ሜዲካል ኮሌጅ \\n\\n ህክምና ለማግኘት አስበዋል ?\\nየት...   \n",
       "2  የዶክተርስ ኢትዮጵያ እንግዳ \\n\\nትንሳይ ብርሃኑ \\nISSA certifi...   \n",
       "3  ዛሬ ምሽት 3:30 በ ፋና ቴሌቪዥን \\n           ልዮ ፕሮግራም \\...   \n",
       "4  ዛሬ ምሽት 3:30 በ ፋና ቴሌቪዥን \\n  ዶክተርስ ገበታ ፕሮግራም \\n\\...   \n",
       "\n",
       "                        Date                 Media Path  \n",
       "0  2022-05-06 17:51:05+00:00  photos\\@DoctorsET_839.jpg  \n",
       "1  2022-04-28 05:46:38+00:00  photos\\@DoctorsET_830.jpg  \n",
       "2  2022-04-22 18:55:31+00:00  photos\\@DoctorsET_828.jpg  \n",
       "3  2022-04-22 17:51:04+00:00  photos\\@DoctorsET_822.jpg  \n",
       "4  2022-04-15 18:06:19+00:00  photos\\@DoctorsET_818.jpg  "
      ]
     },
     "execution_count": 50,
     "metadata": {},
     "output_type": "execute_result"
    }
   ],
   "source": [
    "df_cleaned.head(5)"
   ]
  }
 ],
 "metadata": {
  "kernelspec": {
   "display_name": ".venv",
   "language": "python",
   "name": "python3"
  },
  "language_info": {
   "codemirror_mode": {
    "name": "ipython",
    "version": 3
   },
   "file_extension": ".py",
   "mimetype": "text/x-python",
   "name": "python",
   "nbconvert_exporter": "python",
   "pygments_lexer": "ipython3",
   "version": "3.8.10"
  }
 },
 "nbformat": 4,
 "nbformat_minor": 2
}
